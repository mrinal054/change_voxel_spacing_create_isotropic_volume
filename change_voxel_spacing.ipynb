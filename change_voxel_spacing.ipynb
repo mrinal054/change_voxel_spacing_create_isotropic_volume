{
 "cells": [
  {
   "cell_type": "markdown",
   "metadata": {},
   "source": [
    "## Change voxel spacing / Create isotropic volume\n",
    "This code changes voxel spacing of a 3D volume. It can also be used to generate isotropic volume."
   ]
  },
  {
   "cell_type": "code",
   "execution_count": 1,
   "metadata": {},
   "outputs": [],
   "source": [
    "import numpy as np\n",
    "import os\n",
    "import pydicom\n",
    "from scipy.interpolate import RegularGridInterpolator"
   ]
  },
  {
   "cell_type": "markdown",
   "metadata": {},
   "source": [
    "### Function to read DICOM files"
   ]
  },
  {
   "cell_type": "markdown",
   "metadata": {},
   "source": [
    "More description at https://github.com/mrinal054/generate_3d_volume_from_DICOM_images.git to read DICOM files"
   ]
  },
  {
   "cell_type": "code",
   "execution_count": 2,
   "metadata": {},
   "outputs": [],
   "source": [
    "def get_dcm(dcm_path):\n",
    "    dicom_img = []\n",
    "    file_names = []\n",
    "    # Get DICOM image names\n",
    "    for dir_name, sub_dir_list, file_list in os.walk(dcm_path):\n",
    "        for file_name in file_list:\n",
    "            if \".dcm\" in file_name.lower():  # check if it is dcm file \n",
    "                file_names.append(file_name)\n",
    "                dicom_img.append(os.path.join(dir_name,file_name))\n",
    "    \n",
    "    # Get ref file\n",
    "    ref = pydicom.dcmread(dicom_img[0])    \n",
    "    # Get the spacing\n",
    "    pix_dim = (int(ref.Rows), int(ref.Columns), len(dicom_img))\n",
    "    # Get spacing values (in mm)\n",
    "    pix_spacing = (float(ref.PixelSpacing[0]), float(ref.PixelSpacing[1]), float(ref.SliceThickness))    \n",
    "    # Get the data\n",
    "    dcm_data = np.zeros(pix_dim, dtype=ref.pixel_array.dtype)   \n",
    "\n",
    "    # Check if the DICOM file has 'SliceLocation' attribute. It if it has, then store them\n",
    "    # according to the slice location. Otherwise, store them chronologically. \n",
    "    if hasattr(pydicom.dcmread(dicom_img[0]), 'SliceLocation'):               \n",
    "        # Sort file names according to the slice location\n",
    "        sliceLocation = [pydicom.dcmread(dicom_img[i]).SliceLocation for i in range(len(dicom_img))]\n",
    "        ps = np.argsort(sliceLocation) #ps: position of the sorted slice locations\n",
    "        sorted_file_names = [file_names[ps[i]] for i in range(len(ps))]\n",
    "        print('DICOM sorted by slice location')          \n",
    "        \n",
    "        # loop through all the DICOM files\n",
    "        idx = 0\n",
    "        for file in sorted_file_names:       \n",
    "            # read the file\n",
    "            ds = pydicom.dcmread(os.path.join(dir_name,file))\n",
    "            # store the raw image data\n",
    "            dcm_data[:, :, idx] = ds.pixel_array\n",
    "            idx += 1\n",
    "    else:\n",
    "        print('No slice location. DICOM sorted by name')\n",
    "\n",
    "        # loop through all the DICOM files\n",
    "        for file in dicom_img:\n",
    "            # read the file\n",
    "            ds = pydicom.dcmread(os.path.join(dir_name,file))\n",
    "            # store the raw image data\n",
    "            dcm_data[:, :, dicom_img.index(file)] = ds.pixel_array                              \n",
    "    \n",
    "    # Get the min and max intensity\n",
    "    intensity = (dcm_data.min(), dcm_data.max())\n",
    "        \n",
    "    return dcm_data, pix_spacing, intensity"
   ]
  },
  {
   "cell_type": "markdown",
   "metadata": {},
   "source": [
    "### Function to change voxel spacing"
   ]
  },
  {
   "cell_type": "markdown",
   "metadata": {},
   "source": [
    "* Function `change_voxel_spacing` changes voxel spacing\n",
    "\n",
    "* Input parameters: <br>\n",
    "    `D`: Original data <br>\n",
    "    `org_spacing`: Original voxel spacing <br>\n",
    "    `new_spacing`: New voxel spacing defined by the user\n",
    "    \n",
    "* Output:\n",
    "    Returns volume with new spacing in `int16` format\n",
    "\n",
    "Author @ Mrinal Kanti Dhar"
   ]
  },
  {
   "cell_type": "code",
   "execution_count": 3,
   "metadata": {},
   "outputs": [],
   "source": [
    "def change_voxel_spacing(D, org_spacing, new_spacing):\n",
    "    # Get new volume size\n",
    "    D = np.squeeze(D)\n",
    "    sz_org = D.shape #size of original 3D data\n",
    "    ratio = org_spacing/new_spacing\n",
    "    sz_new = np.ceil((D.shape-np.array([1]))*ratio)+np.array([1]) #size of new 3D data\n",
    "    sz_new = sz_new.astype('int16')\n",
    "\n",
    "    # Generate voxel locations for the original data\n",
    "    Xa = np.arange(0, sz_org[0], 1)*org_spacing[0] \n",
    "    Ya = np.arange(0, sz_org[1], 1)*org_spacing[1]\n",
    "    Za = np.arange(0, sz_org[2], 1)*org_spacing[2]\n",
    "    \n",
    "    # Generate voxel locations for the new data\n",
    "    Xb, Yb, Zb = np.meshgrid(np.arange(0, sz_new[0], 1)*new_spacing[0],\n",
    "                             np.arange(0, sz_new[1], 1)*new_spacing[1],\n",
    "                             np.arange(0, sz_new[2], 1)*new_spacing[2])\n",
    "    \n",
    "    # Do interpolation\n",
    "    fn = RegularGridInterpolator((Ya,Xa,Za), D, bounds_error=False)\n",
    "    \n",
    "    Xb_f, Yb_f, Zb_f = Xb.flatten(), Yb.flatten(), Zb.flatten() #flatten data\n",
    "\n",
    "    interpPoints = np.array([Yb_f, Xb_f,  Zb_f]) \n",
    "    \n",
    "    D_new = fn(interpPoints.T)\n",
    "    D_new = np.reshape(D_new, Xb.shape)\n",
    "    D_new = D_new.astype('int16') #saving in int16 format    \n",
    "    \n",
    "    return D_new"
   ]
  },
  {
   "cell_type": "markdown",
   "metadata": {},
   "source": [
    "#### Read DICOM files"
   ]
  },
  {
   "cell_type": "code",
   "execution_count": 4,
   "metadata": {},
   "outputs": [
    {
     "name": "stdout",
     "output_type": "stream",
     "text": [
      "DICOM sorted by slice location\n",
      "Original dimension:  (480, 480, 320) \n",
      "Original voxel spacing:  (0.263602, 0.263602, 0.2515) \n",
      "Original intensity range:  (-1100, 3899)\n"
     ]
    }
   ],
   "source": [
    "dcm_loc = 'F:\\dicom'\n",
    "data, pix_spacing_org, intensity_org = get_dcm(dcm_loc)\n",
    "print('Original dimension: ', data.shape, \n",
    "      '\\nOriginal voxel spacing: ', pix_spacing_org, \n",
    "      '\\nOriginal intensity range: ', intensity_org)"
   ]
  },
  {
   "cell_type": "markdown",
   "metadata": {},
   "source": [
    "#### Change voxel spacing"
   ]
  },
  {
   "cell_type": "code",
   "execution_count": 5,
   "metadata": {},
   "outputs": [
    {
     "name": "stdout",
     "output_type": "stream",
     "text": [
      "New dimension:  (317, 317, 202) \n",
      "New voxel spacing:  [0.4 0.4 0.4] \n",
      "New intensity range:  -1100 3899\n"
     ]
    }
   ],
   "source": [
    "pix_spacing_new = np.array([0.4, 0.4, 0.4]) #set new spacing \n",
    "\n",
    "data_new = change_voxel_spacing(data, pix_spacing_org, pix_spacing_new)\n",
    "\n",
    "pix_dim_new = data_new.shape\n",
    "print('New dimension: ', pix_dim_new, \n",
    "      '\\nNew voxel spacing: ', pix_spacing_new, \n",
    "      '\\nNew intensity range: ', data_new.min(), data_new.max())"
   ]
  }
 ],
 "metadata": {
  "kernelspec": {
   "display_name": "gputest",
   "language": "python",
   "name": "gputest"
  },
  "language_info": {
   "codemirror_mode": {
    "name": "ipython",
    "version": 3
   },
   "file_extension": ".py",
   "mimetype": "text/x-python",
   "name": "python",
   "nbconvert_exporter": "python",
   "pygments_lexer": "ipython3",
   "version": "3.7.5"
  }
 },
 "nbformat": 4,
 "nbformat_minor": 4
}
